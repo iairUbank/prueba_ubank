{
 "cells": [
  {
   "cell_type": "code",
   "execution_count": 1,
   "id": "630c99c6",
   "metadata": {},
   "outputs": [],
   "source": [
    "import pandas as pd\n",
    "import pymysql\n",
    "from sqlalchemy import create_engine"
   ]
  },
  {
   "cell_type": "markdown",
   "id": "8f2603bb",
   "metadata": {},
   "source": [
    "### Antes de ejecutar este documento, se debe crear la base de datos con el script que se encuentra en el repositorio (ubank_db.sql)\n",
    "#### Ingresar las credenciales de su entorno local"
   ]
  },
  {
   "cell_type": "code",
   "execution_count": 2,
   "id": "cf1f5d6c",
   "metadata": {},
   "outputs": [],
   "source": [
    "engine = create_engine(\"mysql+pymysql://<user>:<password>@localhost:<puerto>/<DB>\")"
   ]
  },
  {
   "cell_type": "code",
   "execution_count": 3,
   "id": "5e5b56a1",
   "metadata": {},
   "outputs": [],
   "source": [
    "catalog_df = pd.read_csv(\"./data/catalog.csv\")\n",
    "projects_df = pd.read_csv(\"./data/test_projects.csv\")\n",
    "rules_df = pd.read_csv(\"./data/test_rules.csv\")\n",
    "transactions_df = pd.read_csv(\"./data/test_transactions.csv\")"
   ]
  },
  {
   "cell_type": "code",
   "execution_count": 4,
   "id": "23ada99d",
   "metadata": {},
   "outputs": [],
   "source": [
    "categories = catalog_df[catalog_df[\"type\"] == \"project_categories\"]\n",
    "rule_types = catalog_df[catalog_df[\"type\"] == \"rule_types\"]"
   ]
  },
  {
   "cell_type": "code",
   "execution_count": 5,
   "id": "1776ea46",
   "metadata": {},
   "outputs": [
    {
     "data": {
      "text/html": [
       "<div>\n",
       "<style scoped>\n",
       "    .dataframe tbody tr th:only-of-type {\n",
       "        vertical-align: middle;\n",
       "    }\n",
       "\n",
       "    .dataframe tbody tr th {\n",
       "        vertical-align: top;\n",
       "    }\n",
       "\n",
       "    .dataframe thead th {\n",
       "        text-align: right;\n",
       "    }\n",
       "</style>\n",
       "<table border=\"1\" class=\"dataframe\">\n",
       "  <thead>\n",
       "    <tr style=\"text-align: right;\">\n",
       "      <th></th>\n",
       "      <th>id</th>\n",
       "      <th>name</th>\n",
       "      <th>type</th>\n",
       "    </tr>\n",
       "  </thead>\n",
       "  <tbody>\n",
       "    <tr>\n",
       "      <th>0</th>\n",
       "      <td>015981e401af4887becbec5f45c3cd4c</td>\n",
       "      <td>Vehiculo</td>\n",
       "      <td>project_categories</td>\n",
       "    </tr>\n",
       "    <tr>\n",
       "      <th>1</th>\n",
       "      <td>4500593565e942d9876fa73734336157</td>\n",
       "      <td>Solo ahorrar</td>\n",
       "      <td>project_categories</td>\n",
       "    </tr>\n",
       "    <tr>\n",
       "      <th>2</th>\n",
       "      <td>6f3c645d720140d0be6063b26b1c423d</td>\n",
       "      <td>Otro</td>\n",
       "      <td>project_categories</td>\n",
       "    </tr>\n",
       "    <tr>\n",
       "      <th>3</th>\n",
       "      <td>b252b4300a02483eb15812ff9e03b841</td>\n",
       "      <td>Comprar algo</td>\n",
       "      <td>project_categories</td>\n",
       "    </tr>\n",
       "    <tr>\n",
       "      <th>4</th>\n",
       "      <td>c173854d8d994c5cad7926cedb6b8770</td>\n",
       "      <td>Viajar</td>\n",
       "      <td>project_categories</td>\n",
       "    </tr>\n",
       "    <tr>\n",
       "      <th>5</th>\n",
       "      <td>edd09901ae364ddb80347e40005d2244</td>\n",
       "      <td>Hogar</td>\n",
       "      <td>project_categories</td>\n",
       "    </tr>\n",
       "    <tr>\n",
       "      <th>6</th>\n",
       "      <td>ff8ac02124d847bd8a1600ec2c969bea</td>\n",
       "      <td>Deudas</td>\n",
       "      <td>project_categories</td>\n",
       "    </tr>\n",
       "  </tbody>\n",
       "</table>\n",
       "</div>"
      ],
      "text/plain": [
       "                                 id          name                type\n",
       "0  015981e401af4887becbec5f45c3cd4c      Vehiculo  project_categories\n",
       "1  4500593565e942d9876fa73734336157  Solo ahorrar  project_categories\n",
       "2  6f3c645d720140d0be6063b26b1c423d          Otro  project_categories\n",
       "3  b252b4300a02483eb15812ff9e03b841  Comprar algo  project_categories\n",
       "4  c173854d8d994c5cad7926cedb6b8770        Viajar  project_categories\n",
       "5  edd09901ae364ddb80347e40005d2244         Hogar  project_categories\n",
       "6  ff8ac02124d847bd8a1600ec2c969bea        Deudas  project_categories"
      ]
     },
     "execution_count": 5,
     "metadata": {},
     "output_type": "execute_result"
    }
   ],
   "source": [
    "categories"
   ]
  },
  {
   "cell_type": "markdown",
   "id": "0273d20a",
   "metadata": {},
   "source": [
    "## Run these commands just once"
   ]
  },
  {
   "cell_type": "markdown",
   "id": "79f18d88",
   "metadata": {},
   "source": [
    "categories.to_sql(\"project_category\", con=engine, index=False)"
   ]
  },
  {
   "cell_type": "code",
   "execution_count": 28,
   "id": "22f0d337",
   "metadata": {},
   "outputs": [],
   "source": [
    "rule_types.to_sql(\"rule_type\", con=engine, index=False, if_exists='append')"
   ]
  },
  {
   "cell_type": "code",
   "execution_count": null,
   "id": "4720b51f",
   "metadata": {},
   "outputs": [],
   "source": [
    "projects_df.to_sql(\"project\", con=engine, index=False, if_exists='append')"
   ]
  },
  {
   "cell_type": "code",
   "execution_count": 31,
   "id": "ac0c8cb0",
   "metadata": {},
   "outputs": [],
   "source": [
    "rules_df.to_sql(\"rule\", con=engine, index=False, if_exists='append')"
   ]
  },
  {
   "cell_type": "code",
   "execution_count": 32,
   "id": "f657f428",
   "metadata": {},
   "outputs": [],
   "source": [
    "transactions_df.to_sql(\"transaction\", con=engine, index=False, if_exists='append')"
   ]
  },
  {
   "cell_type": "code",
   "execution_count": 33,
   "id": "de47b2b1",
   "metadata": {},
   "outputs": [],
   "source": [
    "####################################################################################"
   ]
  },
  {
   "cell_type": "code",
   "execution_count": 32,
   "id": "1755dff5",
   "metadata": {},
   "outputs": [
    {
     "data": {
      "text/html": [
       "<div>\n",
       "<style scoped>\n",
       "    .dataframe tbody tr th:only-of-type {\n",
       "        vertical-align: middle;\n",
       "    }\n",
       "\n",
       "    .dataframe tbody tr th {\n",
       "        vertical-align: top;\n",
       "    }\n",
       "\n",
       "    .dataframe thead th {\n",
       "        text-align: right;\n",
       "    }\n",
       "</style>\n",
       "<table border=\"1\" class=\"dataframe\">\n",
       "  <thead>\n",
       "    <tr style=\"text-align: right;\">\n",
       "      <th></th>\n",
       "      <th>COUNT(project_id)</th>\n",
       "    </tr>\n",
       "  </thead>\n",
       "  <tbody>\n",
       "    <tr>\n",
       "      <th>0</th>\n",
       "      <td>40245</td>\n",
       "    </tr>\n",
       "  </tbody>\n",
       "</table>\n",
       "</div>"
      ],
      "text/plain": [
       "   COUNT(project_id)\n",
       "0              40245"
      ]
     },
     "execution_count": 32,
     "metadata": {},
     "output_type": "execute_result"
    }
   ],
   "source": [
    "## total de proyectos\n",
    "query = \"\"\"SELECT COUNT(project_id) FROM project\"\"\"\n",
    "total_projects = pd.read_sql(query, engine)\n",
    "total_projects"
   ]
  },
  {
   "cell_type": "markdown",
   "id": "db00efd0",
   "metadata": {},
   "source": [
    "# Queries to DF"
   ]
  },
  {
   "cell_type": "markdown",
   "id": "5ba799de",
   "metadata": {},
   "source": [
    "### Total de proyectos por \"categoría\""
   ]
  },
  {
   "cell_type": "code",
   "execution_count": 37,
   "id": "d4971a82",
   "metadata": {},
   "outputs": [
    {
     "data": {
      "text/html": [
       "<div>\n",
       "<style scoped>\n",
       "    .dataframe tbody tr th:only-of-type {\n",
       "        vertical-align: middle;\n",
       "    }\n",
       "\n",
       "    .dataframe tbody tr th {\n",
       "        vertical-align: top;\n",
       "    }\n",
       "\n",
       "    .dataframe thead th {\n",
       "        text-align: right;\n",
       "    }\n",
       "</style>\n",
       "<table border=\"1\" class=\"dataframe\">\n",
       "  <thead>\n",
       "    <tr style=\"text-align: right;\">\n",
       "      <th></th>\n",
       "      <th>category</th>\n",
       "      <th>total_projects</th>\n",
       "    </tr>\n",
       "  </thead>\n",
       "  <tbody>\n",
       "    <tr>\n",
       "      <th>0</th>\n",
       "      <td>Solo ahorrar</td>\n",
       "      <td>19689</td>\n",
       "    </tr>\n",
       "    <tr>\n",
       "      <th>1</th>\n",
       "      <td>Viajar</td>\n",
       "      <td>6092</td>\n",
       "    </tr>\n",
       "    <tr>\n",
       "      <th>2</th>\n",
       "      <td>Vehiculo</td>\n",
       "      <td>4091</td>\n",
       "    </tr>\n",
       "    <tr>\n",
       "      <th>3</th>\n",
       "      <td>Comprar algo</td>\n",
       "      <td>3617</td>\n",
       "    </tr>\n",
       "    <tr>\n",
       "      <th>4</th>\n",
       "      <td>Deudas</td>\n",
       "      <td>2721</td>\n",
       "    </tr>\n",
       "    <tr>\n",
       "      <th>5</th>\n",
       "      <td>Hogar</td>\n",
       "      <td>2247</td>\n",
       "    </tr>\n",
       "    <tr>\n",
       "      <th>6</th>\n",
       "      <td>Otro</td>\n",
       "      <td>1788</td>\n",
       "    </tr>\n",
       "  </tbody>\n",
       "</table>\n",
       "</div>"
      ],
      "text/plain": [
       "       category  total_projects\n",
       "0  Solo ahorrar           19689\n",
       "1        Viajar            6092\n",
       "2      Vehiculo            4091\n",
       "3  Comprar algo            3617\n",
       "4        Deudas            2721\n",
       "5         Hogar            2247\n",
       "6          Otro            1788"
      ]
     },
     "execution_count": 37,
     "metadata": {},
     "output_type": "execute_result"
    }
   ],
   "source": [
    "query = \"\"\"SELECT project_category.name as category, COUNT(project.project_category_id) as total_projects\n",
    "FROM project INNER JOIN project_category on project.project_category_id = project_category.id \n",
    "GROUP BY project_category.name\n",
    "ORDER BY total_projects DESC\"\"\"\n",
    "projects_by_category_DF = pd.read_sql(query, engine)\n",
    "projects_by_category_DF"
   ]
  },
  {
   "cell_type": "code",
   "execution_count": 40,
   "id": "9a18fea0",
   "metadata": {},
   "outputs": [
    {
     "data": {
      "image/png": "[encoded data removed]",
      "text/plain": [
       "<Figure size 432x288 with 1 Axes>"
      ]
     },
     "metadata": {},
     "output_type": "display_data"
    }
   ],
   "source": [
    "import matplotlib.pyplot as plt\n",
    "plt.pie(projects_by_category_DF[\"total_projects\"], labels=projects_by_category_DF[\"category\"])\n",
    "plt.title(\"Categorías de ahorro\")\n",
    "plt.show()"
   ]
  },
  {
   "cell_type": "code",
   "execution_count": 7,
   "id": "3dd90e9d",
   "metadata": {},
   "outputs": [],
   "source": [
    "### Evidenciamos que la categoría que más está presente en los proyectos es \"solo ahorrar\",\n",
    "### seguida por \"viajar\", \"comprar vehículo\", \"algo más\" respectivamente"
   ]
  },
  {
   "cell_type": "markdown",
   "id": "0492edbd",
   "metadata": {},
   "source": [
    "### Total de proyectos por \"tipo de regla\""
   ]
  },
  {
   "cell_type": "code",
   "execution_count": 8,
   "id": "4c73c09b",
   "metadata": {},
   "outputs": [
    {
     "data": {
      "text/html": [
       "<div>\n",
       "<style scoped>\n",
       "    .dataframe tbody tr th:only-of-type {\n",
       "        vertical-align: middle;\n",
       "    }\n",
       "\n",
       "    .dataframe tbody tr th {\n",
       "        vertical-align: top;\n",
       "    }\n",
       "\n",
       "    .dataframe thead th {\n",
       "        text-align: right;\n",
       "    }\n",
       "</style>\n",
       "<table border=\"1\" class=\"dataframe\">\n",
       "  <thead>\n",
       "    <tr style=\"text-align: right;\">\n",
       "      <th></th>\n",
       "      <th>rule_name</th>\n",
       "      <th>total_projects</th>\n",
       "    </tr>\n",
       "  </thead>\n",
       "  <tbody>\n",
       "    <tr>\n",
       "      <th>0</th>\n",
       "      <td>Monto fijo</td>\n",
       "      <td>28487</td>\n",
       "    </tr>\n",
       "    <tr>\n",
       "      <th>1</th>\n",
       "      <td>% de mi sueldo</td>\n",
       "      <td>11807</td>\n",
       "    </tr>\n",
       "    <tr>\n",
       "      <th>2</th>\n",
       "      <td>Redondear</td>\n",
       "      <td>10511</td>\n",
       "    </tr>\n",
       "    <tr>\n",
       "      <th>3</th>\n",
       "      <td>Desafío 52 semanas</td>\n",
       "      <td>10321</td>\n",
       "    </tr>\n",
       "    <tr>\n",
       "      <th>4</th>\n",
       "      <td>Placer culpable</td>\n",
       "      <td>5591</td>\n",
       "    </tr>\n",
       "    <tr>\n",
       "      <th>5</th>\n",
       "      <td>Santander TAP</td>\n",
       "      <td>1486</td>\n",
       "    </tr>\n",
       "    <tr>\n",
       "      <th>6</th>\n",
       "      <td>Pasión Futbolera</td>\n",
       "      <td>51</td>\n",
       "    </tr>\n",
       "  </tbody>\n",
       "</table>\n",
       "</div>"
      ],
      "text/plain": [
       "            rule_name  total_projects\n",
       "0          Monto fijo           28487\n",
       "1      % de mi sueldo           11807\n",
       "2           Redondear           10511\n",
       "3  Desafío 52 semanas           10321\n",
       "4     Placer culpable            5591\n",
       "5       Santander TAP            1486\n",
       "6    Pasión Futbolera              51"
      ]
     },
     "execution_count": 8,
     "metadata": {},
     "output_type": "execute_result"
    }
   ],
   "source": [
    "query = \"\"\"SELECT rule_type.name as rule_name, COUNT(project.project_category_id) as total_projects\n",
    "FROM rule_type INNER JOIN rule on rule_type.id = rule.rule_type_id\n",
    "INNER JOIN project on rule.project_id = project.project_id\n",
    "GROUP BY rule_name\n",
    "ORDER BY total_projects DESC\"\"\"\n",
    "projects_by_rule_type_DF = pd.read_sql(query, engine)\n",
    "projects_by_rule_type_DF"
   ]
  },
  {
   "cell_type": "code",
   "execution_count": 41,
   "id": "3853fbee",
   "metadata": {},
   "outputs": [
    {
     "data": {
      "image/png": "[encoded data removed]",
      "text/plain": [
       "<Figure size 432x288 with 1 Axes>"
      ]
     },
     "metadata": {},
     "output_type": "display_data"
    }
   ],
   "source": [
    "plt.pie(projects_by_rule_type_DF[\"total_projects\"], labels=projects_by_rule_type_DF[\"rule_name\"])\n",
    "plt.title(\"Tipo de regla\")\n",
    "plt.show()"
   ]
  },
  {
   "cell_type": "code",
   "execution_count": 9,
   "id": "38d22fc3",
   "metadata": {},
   "outputs": [],
   "source": [
    "### La regla más usada(con gran diferencia) en los proyetos de ahorro es \"Monto fijo\",\n",
    "### seguida por \"% de mi sueldo\", \"Redondear\" y \"desafío de 52 semanas\" respectivamente,\n",
    "### estas 3 reglas están bastante parejas comparandolas entre sí"
   ]
  },
  {
   "cell_type": "markdown",
   "id": "8ab4dbe6",
   "metadata": {},
   "source": [
    "### Ahora se realizarán consultas cons las primeras cuatro categorías con los diferentes tipos de reglas que existen, para verificar como se comportan estas reglas en nuestras primeras categorías"
   ]
  },
  {
   "cell_type": "code",
   "execution_count": 10,
   "id": "3611e2b2",
   "metadata": {},
   "outputs": [],
   "source": [
    "# Solo ahorrar"
   ]
  },
  {
   "cell_type": "code",
   "execution_count": 11,
   "id": "4eb4efe8",
   "metadata": {},
   "outputs": [],
   "source": [
    "query = \"\"\"SELECT rule_type.name as rule_type_name, COUNT(project.project_id) as solo_ahorrar FROM rule_type INNER JOIN rule on rule_type.id = rule.rule_type_id\n",
    "INNER JOIN project on rule.project_id = project.project_id\n",
    "WHERE project.project_category_id = \"4500593565e942d9876fa73734336157\"\n",
    "GROUP BY rule_type_name\n",
    "ORDER BY solo_ahorrar DESC\"\"\"\n",
    "solo_ahorrar_rt_DF = pd.read_sql(query, engine)"
   ]
  },
  {
   "cell_type": "code",
   "execution_count": 12,
   "id": "12a8ed9e",
   "metadata": {},
   "outputs": [
    {
     "data": {
      "image/png": "[encoded data removed]",
      "text/plain": [
       "<Figure size 432x288 with 1 Axes>"
      ]
     },
     "metadata": {},
     "output_type": "display_data"
    }
   ],
   "source": [
    "plt.pie(solo_ahorrar_rt_DF[\"solo_ahorrar\"], labels=solo_ahorrar_rt_DF[\"rule_type_name\"])\n",
    "plt.title(\"Solo Ahorrar\")\n",
    "plt.show()"
   ]
  },
  {
   "cell_type": "code",
   "execution_count": 13,
   "id": "954f45ed",
   "metadata": {},
   "outputs": [],
   "source": [
    "# Viajar"
   ]
  },
  {
   "cell_type": "code",
   "execution_count": 14,
   "id": "c9984bea",
   "metadata": {},
   "outputs": [],
   "source": [
    "query = \"\"\"SELECT rule_type.name as rule_type_name, COUNT(project.project_id) as viajar FROM rule_type INNER JOIN rule on rule_type.id = rule.rule_type_id\n",
    "INNER JOIN project on rule.project_id = project.project_id\n",
    "WHERE project.project_category_id = \"c173854d8d994c5cad7926cedb6b8770\"\n",
    "GROUP BY rule_type_name\n",
    "ORDER BY viajar DESC\"\"\"\n",
    "viajar_rt_DF = pd.read_sql(query, engine)"
   ]
  },
  {
   "cell_type": "code",
   "execution_count": 15,
   "id": "54f91d03",
   "metadata": {},
   "outputs": [
    {
     "data": {
      "image/png": "[encoded data removed]",
      "text/plain": [
       "<Figure size 432x288 with 1 Axes>"
      ]
     },
     "metadata": {},
     "output_type": "display_data"
    }
   ],
   "source": [
    "plt.pie(viajar_rt_DF[\"viajar\"], labels=viajar_rt_DF[\"rule_type_name\"])\n",
    "plt.title(\"viajar\")\n",
    "plt.show()"
   ]
  },
  {
   "cell_type": "code",
   "execution_count": 16,
   "id": "51732b26",
   "metadata": {},
   "outputs": [],
   "source": [
    "# Vehículo"
   ]
  },
  {
   "cell_type": "code",
   "execution_count": 17,
   "id": "c63cb105",
   "metadata": {},
   "outputs": [],
   "source": [
    "query = \"\"\"SELECT rule_type.name as rule_type_name, COUNT(project.project_id) as vehiculo FROM rule_type INNER JOIN rule on rule_type.id = rule.rule_type_id\n",
    "INNER JOIN project on rule.project_id = project.project_id\n",
    "WHERE project.project_category_id = \"015981e401af4887becbec5f45c3cd4c\"\n",
    "GROUP BY rule_type_name\n",
    "ORDER BY vehiculo DESC\"\"\"\n",
    "vehiculo_rt_DF = pd.read_sql(query, engine)"
   ]
  },
  {
   "cell_type": "code",
   "execution_count": 18,
   "id": "8a23074a",
   "metadata": {},
   "outputs": [
    {
     "data": {
      "image/png": "[encoded data removed]",
      "text/plain": [
       "<Figure size 432x288 with 1 Axes>"
      ]
     },
     "metadata": {},
     "output_type": "display_data"
    }
   ],
   "source": [
    "plt.pie(vehiculo_rt_DF[\"vehiculo\"], labels=viajar_rt_DF[\"rule_type_name\"])\n",
    "plt.title(\"Vehículo\")\n",
    "plt.show()"
   ]
  },
  {
   "cell_type": "code",
   "execution_count": 19,
   "id": "a3999c02",
   "metadata": {},
   "outputs": [],
   "source": [
    "# Comprar algo"
   ]
  },
  {
   "cell_type": "code",
   "execution_count": 20,
   "id": "0c95375d",
   "metadata": {},
   "outputs": [],
   "source": [
    "query = \"\"\"SELECT rule_type.name as rule_type_name, COUNT(project.project_id) as comprar_algo FROM rule_type INNER JOIN rule on rule_type.id = rule.rule_type_id\n",
    "INNER JOIN project on rule.project_id = project.project_id\n",
    "WHERE project.project_category_id = \"b252b4300a02483eb15812ff9e03b841\"\n",
    "GROUP BY rule_type_name\n",
    "ORDER BY comprar_algo DESC\"\"\"\n",
    "comprar_algo_rt_DF = pd.read_sql(query, engine)"
   ]
  },
  {
   "cell_type": "code",
   "execution_count": 21,
   "id": "912f62b3",
   "metadata": {},
   "outputs": [
    {
     "data": {
      "image/png": "[encoded data removed]",
      "text/plain": [
       "<Figure size 432x288 with 1 Axes>"
      ]
     },
     "metadata": {},
     "output_type": "display_data"
    }
   ],
   "source": [
    "plt.pie(comprar_algo_rt_DF[\"comprar_algo\"], labels=comprar_algo_rt_DF[\"rule_type_name\"])\n",
    "plt.title(\"Comprar Algo\")\n",
    "plt.show()"
   ]
  },
  {
   "cell_type": "markdown",
   "id": "38947afb",
   "metadata": {},
   "source": [
    "### A simple vista se evidencia el patrón hallado en la tendencia del total de las categorías, y es que la regla más predominante para ahorrar es \"monto_fijo\""
   ]
  },
  {
   "cell_type": "code",
   "execution_count": 22,
   "id": "854d96e0",
   "metadata": {},
   "outputs": [],
   "source": [
    "### Vamos a comparar todas las reglas entre sí"
   ]
  },
  {
   "cell_type": "code",
   "execution_count": 27,
   "id": "2a8b857c",
   "metadata": {},
   "outputs": [
    {
     "data": {
      "text/html": [
       "<div>\n",
       "<style scoped>\n",
       "    .dataframe tbody tr th:only-of-type {\n",
       "        vertical-align: middle;\n",
       "    }\n",
       "\n",
       "    .dataframe tbody tr th {\n",
       "        vertical-align: top;\n",
       "    }\n",
       "\n",
       "    .dataframe thead th {\n",
       "        text-align: right;\n",
       "    }\n",
       "</style>\n",
       "<table border=\"1\" class=\"dataframe\">\n",
       "  <thead>\n",
       "    <tr style=\"text-align: right;\">\n",
       "      <th></th>\n",
       "      <th>rule_type_name</th>\n",
       "      <th>solo_ahorrar</th>\n",
       "      <th>viajar</th>\n",
       "      <th>vehiculo</th>\n",
       "      <th>comprar_algo</th>\n",
       "    </tr>\n",
       "  </thead>\n",
       "  <tbody>\n",
       "    <tr>\n",
       "      <th>0</th>\n",
       "      <td>Monto fijo</td>\n",
       "      <td>13825</td>\n",
       "      <td>4431</td>\n",
       "      <td>2550</td>\n",
       "      <td>2722</td>\n",
       "    </tr>\n",
       "    <tr>\n",
       "      <th>1</th>\n",
       "      <td>% de mi sueldo</td>\n",
       "      <td>5836</td>\n",
       "      <td>1846</td>\n",
       "      <td>1149</td>\n",
       "      <td>1046</td>\n",
       "    </tr>\n",
       "    <tr>\n",
       "      <th>2</th>\n",
       "      <td>Desafío 52 semanas</td>\n",
       "      <td>5095</td>\n",
       "      <td>1804</td>\n",
       "      <td>1024</td>\n",
       "      <td>1011</td>\n",
       "    </tr>\n",
       "    <tr>\n",
       "      <th>3</th>\n",
       "      <td>Redondear</td>\n",
       "      <td>5002</td>\n",
       "      <td>1678</td>\n",
       "      <td>985</td>\n",
       "      <td>895</td>\n",
       "    </tr>\n",
       "    <tr>\n",
       "      <th>4</th>\n",
       "      <td>Placer culpable</td>\n",
       "      <td>2487</td>\n",
       "      <td>972</td>\n",
       "      <td>584</td>\n",
       "      <td>547</td>\n",
       "    </tr>\n",
       "    <tr>\n",
       "      <th>5</th>\n",
       "      <td>Santander TAP</td>\n",
       "      <td>656</td>\n",
       "      <td>225</td>\n",
       "      <td>149</td>\n",
       "      <td>134</td>\n",
       "    </tr>\n",
       "    <tr>\n",
       "      <th>6</th>\n",
       "      <td>Pasión Futbolera</td>\n",
       "      <td>28</td>\n",
       "      <td>8</td>\n",
       "      <td>8</td>\n",
       "      <td>1</td>\n",
       "    </tr>\n",
       "  </tbody>\n",
       "</table>\n",
       "</div>"
      ],
      "text/plain": [
       "       rule_type_name  solo_ahorrar  viajar  vehiculo  comprar_algo\n",
       "0          Monto fijo         13825    4431      2550          2722\n",
       "1      % de mi sueldo          5836    1846      1149          1046\n",
       "2  Desafío 52 semanas          5095    1804      1024          1011\n",
       "3           Redondear          5002    1678       985           895\n",
       "4     Placer culpable          2487     972       584           547\n",
       "5       Santander TAP           656     225       149           134\n",
       "6    Pasión Futbolera            28       8         8             1"
      ]
     },
     "execution_count": 27,
     "metadata": {},
     "output_type": "execute_result"
    }
   ],
   "source": [
    "all_rules = solo_ahorrar_rt_DF.copy()\n",
    "all_rules[\"viajar\"] = viajar_rt_DF[\"viajar\"]\n",
    "all_rules[\"vehiculo\"] = vehiculo_rt_DF[\"vehiculo\"]\n",
    "all_rules[\"comprar_algo\"] = comprar_algo_rt_DF[\"comprar_algo\"]\n",
    "all_rules"
   ]
  },
  {
   "cell_type": "code",
   "execution_count": 31,
   "id": "f9751f25",
   "metadata": {},
   "outputs": [
    {
     "data": {
      "text/plain": [
       "<AxesSubplot:xlabel='rule_type_name'>"
      ]
     },
     "execution_count": 31,
     "metadata": {},
     "output_type": "execute_result"
    },
    {
     "data": {
      "image/png": "[encoded data removed]",
      "text/plain": [
       "<Figure size 432x288 with 1 Axes>"
      ]
     },
     "metadata": {
      "needs_background": "light"
     },
     "output_type": "display_data"
    }
   ],
   "source": [
    "%matplotlib inline\n",
    "all_rules.plot(kind=\"bar\",x=\"rule_type_name\")"
   ]
  }
 ],
 "metadata": {
  "kernelspec": {
   "display_name": "Python 3",
   "language": "python",
   "name": "python3"
  },
  "language_info": {
   "codemirror_mode": {
    "name": "ipython",
    "version": 3
   },
   "file_extension": ".py",
   "mimetype": "text/x-python",
   "name": "python",
   "nbconvert_exporter": "python",
   "pygments_lexer": "ipython3",
   "version": "3.8.8"
  }
 },
 "nbformat": 4,
 "nbformat_minor": 5
}
